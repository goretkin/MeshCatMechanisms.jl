{
 "cells": [
  {
   "cell_type": "code",
   "execution_count": null,
   "metadata": {},
   "outputs": [],
   "source": [
    "using MeshCat\n",
    "using RigidBodyDynamics\n",
    "using MeshCatMechanisms"
   ]
  },
  {
   "cell_type": "code",
   "execution_count": null,
   "metadata": {},
   "outputs": [],
   "source": [
    "vis = Visualizer()\n",
    "# open(vis)  # open the visualizer in a separate tab/window\n",
    "IJuliaCell(vis) # render the visualizer here inside the jupyter notebook"
   ]
  },
  {
   "cell_type": "code",
   "execution_count": null,
   "metadata": {},
   "outputs": [],
   "source": [
    "urdf = joinpath(dirname(pathof(MeshCatMechanisms)), \"..\", \"test\", \"urdf\", \"Acrobot.urdf\")\n",
    "robot = parse_urdf(urdf)\n",
    "delete!(vis)\n",
    "mvis = MechanismVisualizer(robot, URDFVisuals(urdf), vis)\n",
    "set_configuration!(mvis, [0.0, 0.0])"
   ]
  },
  {
   "cell_type": "code",
   "execution_count": null,
   "metadata": {},
   "outputs": [],
   "source": [
    "state = MechanismState(robot, randn(2), randn(2))\n",
    "t, q, v = simulate(state, 5.0);"
   ]
  },
  {
   "cell_type": "markdown",
   "metadata": {},
   "source": [
    "## Animating a Trajectory\n",
    "\n",
    "You can animate a trajectory (a list of times and configurations) with the `setanimation!()` function. To create an animation and play it in the visualizer, you just need to do:"
   ]
  },
  {
   "cell_type": "code",
   "execution_count": null,
   "metadata": {},
   "outputs": [],
   "source": [
    "setanimation!(mvis, t, q)"
   ]
  },
  {
   "cell_type": "markdown",
   "metadata": {},
   "source": [
    "### Replaying the Animation\n",
    "\n",
    "When you use `setanimation!`, the entire animation is sent to the visualizer, so you can replay it at will. In the viewer, click \"Open Controls\" in the top right corner, go to \"Animation\" -> \"default\" and click \"play\" to play the animation again. \n",
    "\n",
    "### Recording the Animation\n",
    "\n",
    "You can also record an animation directly from the MeshCat viewer. Just open the controls and go to \"Animation\" -> \"default\" -> \"Recording\" and click \"record\". The animation will play back (slowly, as it needs to cleanly capture every frame), and then you'll be able to download the resulting frames. \n",
    "\n",
    "Currently, MeshCat downloads an animation as a `.tar` file containing all of the individual frames. To convert that into a video, you just need to install the `ffmpeg` program (`apt-get install ffmpeg` on Ubuntu 18.04) and then run: \n",
    "\n",
    "```julia\n",
    "MeshCat.convert_frames_to_video(\"/path/to/downloads/meshcat_xxx.tar\")\n",
    "```"
   ]
  },
  {
   "cell_type": "markdown",
   "metadata": {},
   "source": [
    "### Visualizing Frames and Points\n",
    "\n",
    "You can use the lower-level `setelement!()` function to attach geometries to frames in the mechanism. For example, to visualize a coordinate frame with a triad, you can do: "
   ]
  },
  {
   "cell_type": "code",
   "execution_count": null,
   "metadata": {},
   "outputs": [],
   "source": [
    "lower_arm = bodies(robot)[end]\n",
    "body_frame = default_frame(lower_arm)\n",
    "setelement!(mvis, body_frame)"
   ]
  },
  {
   "cell_type": "markdown",
   "metadata": {},
   "source": [
    "And likewise, to visualize a point attached to a frame, you can do:"
   ]
  },
  {
   "cell_type": "code",
   "execution_count": null,
   "metadata": {},
   "outputs": [],
   "source": [
    "radius = 0.05\n",
    "name = \"my_point\"\n",
    "setelement!(mvis, Point3D(body_frame, 0.2, 0.2, 0.2), radius, name)"
   ]
  },
  {
   "cell_type": "markdown",
   "metadata": {},
   "source": [
    "The triad and point are included in the MeshCat scene tree, so each will move along with the body to which it's attached:"
   ]
  },
  {
   "cell_type": "code",
   "execution_count": null,
   "metadata": {},
   "outputs": [],
   "source": [
    "setanimation!(mvis, t, q)"
   ]
  },
  {
   "cell_type": "code",
   "execution_count": null,
   "metadata": {},
   "outputs": [],
   "source": [
    "using ValkyrieRobot\n",
    "\n",
    "val = Valkyrie();\n",
    "delete!(vis)\n",
    "mvis = MechanismVisualizer(\n",
    "    val.mechanism, \n",
    "    URDFVisuals(ValkyrieRobot.urdfpath(), package_path=[dirname(dirname(ValkyrieRobot.urdfpath()))]),\n",
    "    vis);"
   ]
  },
  {
   "cell_type": "code",
   "execution_count": null,
   "metadata": {},
   "outputs": [],
   "source": [
    "using ValkyrieRobot.BipedControlUtil: Side, flipsign_if_right\n",
    "\n",
    "function initialize!(state::MechanismState, val::Valkyrie)\n",
    "    zero!(state)\n",
    "    mechanism = val.mechanism\n",
    "    for side in instances(Side)\n",
    "        set_configuration!(state, findjoint(mechanism, \"$(side)KneePitch\"), [1.205])\n",
    "        set_configuration!(state, findjoint(mechanism, \"$(side)HipPitch\"), [-0.49])\n",
    "        set_configuration!(state, findjoint(mechanism, \"$(side)AnklePitch\"), [-0.71])\n",
    "        set_configuration!(state, findjoint(mechanism, \"$(side)ShoulderPitch\"), [0.300196631343025])\n",
    "        set_configuration!(state, findjoint(mechanism, \"$(side)ShoulderRoll\"), [flipsign_if_right(-1.25, side)])\n",
    "        set_configuration!(state, findjoint(mechanism, \"$(side)ElbowPitch\"), [flipsign_if_right(-0.785398163397448, side)])\n",
    "        set_configuration!(state, findjoint(mechanism, \"$(side)ForearmYaw\"), [1.571])\n",
    "    end\n",
    "    set_configuration!(state, val.basejoint, [1; 0; 0; 0; 0; 0; 1.025])\n",
    "    nothing\n",
    "end\n",
    "state = MechanismState(val.mechanism)\n",
    "initialize!(state, val)\n",
    "set_configuration!(mvis, configuration(state))"
   ]
  },
  {
   "cell_type": "code",
   "execution_count": null,
   "metadata": {},
   "outputs": [],
   "source": [
    "# Handling robots with fixed joints\n",
    "urdf = joinpath(dirname(pathof(MeshCatMechanisms)), \"..\", \"test\", \"urdf\", \"Acrobot.urdf\")\n",
    "robot = parse_urdf(urdf)\n",
    "RigidBodyDynamics.remove_fixed_tree_joints!(robot)\n",
    "vis = MechanismVisualizer(robot, URDFVisuals(urdf))\n",
    "\n",
    "# with the elbow fixed, there is only one configuration element\n",
    "set_configuration!(vis, [0.5]) \n",
    "IJuliaCell(vis)"
   ]
  },
  {
   "cell_type": "code",
   "execution_count": null,
   "metadata": {},
   "outputs": [],
   "source": []
  }
 ],
 "metadata": {
  "kernelspec": {
   "display_name": "Julia 0.6.4",
   "language": "julia",
   "name": "julia-0.6"
  },
  "language_info": {
   "file_extension": ".jl",
   "mimetype": "application/julia",
   "name": "julia",
   "version": "0.6.4"
  }
 },
 "nbformat": 4,
 "nbformat_minor": 2
}
